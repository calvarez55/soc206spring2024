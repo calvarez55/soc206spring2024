{
 "cells": [
  {
   "cell_type": "markdown",
   "id": "29667196",
   "metadata": {},
   "source": [
    "# Homework Difference in Difference\n",
    "Submit a do, log, and word file."
   ]
  },
  {
   "cell_type": "markdown",
   "id": "e669b03f",
   "metadata": {},
   "source": [
    "## Problem 1 \n",
    "* Load the injury.dta data from Canvas. This data has unit of analysis of individuals/workers with unemployment time in Kectucky. In 1980, the state increased the amount of weekly earnings from workers compensation. We want to assess the effect of the program. The program mostly impact higher income earners (meaning it didn't change much for lower income workers) therefore we will use income as the treatment.\n",
    "* duration is unemployment benefits, measured in weeks\n",
    "* log_duration is log of duration\n",
    "* highearn dummy variable of whether worker is high income (treatment)\n",
    "* after_1980 dummy variable of before and after 1980 (time)\n",
    "* male dummy variable of male\n",
    "* married dummy variable of married\n",
    "* age is age of worker\n",
    "* hosp is dummy variable of whether worker was hospitalized\n",
    "* indust categorical variable 1 = manufacturing, 2 = construction, 3 = other\n",
    "* injtype categorical variable 1-8; categories for different types of injury\n",
    "* lprewage is log of wage prior to filing a claim"
   ]
  },
  {
   "cell_type": "markdown",
   "id": "9b77411d",
   "metadata": {},
   "source": [
    "* Q1: Log the data and manually calculate the average treatment effect.\n",
    "* Q2:  Check your calculation with regression command in Stata. Write what you found.\n",
    "* Q3: Run a difference in difference model with the following controls: male, married, age, hosp, indust, injtype, and lprewage. Does the average treatment effect change?"
   ]
  },
  {
   "cell_type": "markdown",
   "id": "aaef55b9",
   "metadata": {},
   "source": [
    "### Problem 2\n",
    "* Q1: Use the collapse command to create a new dataset of means of log duration across the groups treatment and time.\n",
    "* Q2: Use the twoway graph the control and treatment groups."
   ]
  },
  {
   "cell_type": "markdown",
   "id": "8ad30ec7",
   "metadata": {},
   "source": [
    "* Q3: Run these commands:"
   ]
  },
  {
   "cell_type": "code",
   "execution_count": null,
   "id": "988f45b2",
   "metadata": {},
   "outputs": [],
   "source": [
    "gen mark=0\n",
    "\n",
    "set obs 5\n",
    "replace after_1980 = 0 in 5\n",
    "replace highearn = 1 in 5\n",
    "replace log_duration = 1.382094 in 5\n",
    "replace mark =1 in 5\n",
    "set obs 6\n",
    "replace highearn = 1 in 6\n",
    "replace after_1980 = 1 in 6\n",
    "replace log_duration=1.389752 in 6\n",
    "replace mark = 1 in 6"
   ]
  },
  {
   "cell_type": "markdown",
   "id": "85ab086b",
   "metadata": {},
   "source": [
    "* Q4: Add this command to your twoway graph:"
   ]
  },
  {
   "cell_type": "code",
   "execution_count": null,
   "id": "ba36f109",
   "metadata": {},
   "outputs": [],
   "source": [
    "(line log_duration after_1980 if mark==1&highearn==1, lpattern(longdash))"
   ]
  },
  {
   "cell_type": "markdown",
   "id": "56cd014b",
   "metadata": {},
   "source": [
    "* Q5: Write about the graph. "
   ]
  }
 ],
 "metadata": {
  "kernelspec": {
   "display_name": "Stata",
   "language": "stata",
   "name": "stata"
  },
  "language_info": {
   "codemirror_mode": "stata",
   "file_extension": ".do",
   "mimetype": "text/x-stata",
   "name": "stata",
   "version": "15.1"
  }
 },
 "nbformat": 4,
 "nbformat_minor": 5
}
