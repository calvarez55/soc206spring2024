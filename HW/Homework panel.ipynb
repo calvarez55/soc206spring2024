{
 "cells": [
  {
   "cell_type": "markdown",
   "metadata": {},
   "source": [
    "# HW Panel analysis\n",
    "Submit a do, log, and word documents."
   ]
  },
  {
   "cell_type": "markdown",
   "metadata": {},
   "source": [
    "## Problem 1\n",
    "* a: For this question, we are using the wagepan.dta data. Load the data from Canvas. The data set is 545 men subset from the U.S. National Longitudinal Survey. Here is variable description:\n",
    "    * ii. nr: person identifier (i)\n",
    "    * iii. year: 1980 to 1987 (t)\n",
    "    * iv. union: dummy variable for being in a union (yti)\n",
    "    * v. edu: year of schooling\n",
    "    * vi. black: dummy variable for Black respondents \n",
    "    * vii. hisp: dummy variable for Hispanic respondents\n",
    "    * viii. exper: years of labor experience\n",
    "    * ix. hours: annual hours worked\n",
    "    * x. lwage:  log(wage)\n",
    "* b: Write a code to tell Stata the data is panel.\n",
    "* c: Write code and show the output for the following: Estimate a random effects model with lwage as the dependent varibale and with the following independent variables: educational attainment (edu), race (black), ethnicity (hisp), and union. \n",
    "* d: Explain the results. Explain the direction and statistical significance of the odds ratio coefficients. Make sure you are explaining the odds ratio. Make sure to explain what “random-effects” means."
   ]
  },
  {
   "cell_type": "markdown",
   "metadata": {},
   "source": [
    "## Problem 2. \n",
    "* a For this question, we are using the co2.dta data. Lost the data. This data is OECD countries from 2010-2014. Here is variable description:\n",
    "    * co2pc: carbon dioxide emission per capita (in metric tons)\n",
    "    * urb: percent of population living in urban areas\n",
    "    * gdppc: gross domestic product US dollars (in the thousands)\n",
    "    * gdppcquad: gdppc quadratic term\n",
    "* b. The data is in wide format. Write a code to reshape the data to long.\n",
    "* c. Use the following code to plot, gdppc and co2pc: "
   ]
  },
  {
   "cell_type": "code",
   "execution_count": null,
   "metadata": {},
   "outputs": [],
   "source": [
    "twoway (scatter co2pc gdppc, mlabel(countrycode) msize(tiny))"
   ]
  },
  {
   "cell_type": "markdown",
   "metadata": {},
   "source": [
    "* c. Based on the scatter plot, write at least 3 sentences as to why we would use fixed-effects model here instead of random-effects model. (Think about country-clusters).\n",
    "* d. Write a code to tell Stata the data is panel.\n",
    "* e. Write code and show the output for the following: Estimate a fixed effects model of the relationship of urbanization (urb), gross domestic product (gdppc), quadratic term of gdppc (gdppcquad), and a linear time trend (i.year) onto carbon dioxide emissions per capita (co2pc). Use vce(robust) to estimate robust standard errors.\n",
    "* f. Write at least 3 sentences explaining the results. Explain the direction and statistical significance of the coefficients."
   ]
  }
 ],
 "metadata": {
  "kernelspec": {
   "display_name": "Stata",
   "language": "stata",
   "name": "stata"
  },
  "language_info": {
   "codemirror_mode": "stata",
   "file_extension": ".do",
   "mimetype": "text/x-stata",
   "name": "stata",
   "version": "15.1"
  }
 },
 "nbformat": 4,
 "nbformat_minor": 4
}
