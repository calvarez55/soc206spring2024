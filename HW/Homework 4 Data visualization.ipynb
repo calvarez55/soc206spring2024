{
 "cells": [
  {
   "cell_type": "markdown",
   "id": "7b78c6fa",
   "metadata": {},
   "source": [
    "# Homework 4\n",
    "## Due June 5th Midnight\n",
    "### You must complete the entire assignment in Stata. Homework submission must include do-file, log-file, and word file. The word file should include figures and explanations. Your do file should be organized based on question."
   ]
  },
  {
   "cell_type": "markdown",
   "id": "684f58ec",
   "metadata": {},
   "source": [
    "## Problem 1\n",
    "* Q1: Use the eviction_classdata.dta. This is data 2012-2018 of eviction and demographic data at the county level.\n",
    "    * fips - fips code is a five-digit code where state is the first two digits and the last three digits are county code\n",
    "    * county - county name\n",
    "    * state - state name\n",
    "    * year - year 2012-2018\n",
    "    * type - eviction data was either observed or modeled\n",
    "    * filings - number of filings observed in proprietary data\n",
    "    * filing_rate - number of filings per 100 renting households\n",
    "    * threatened - number of households threatened with eviction observed in proprietary data\n",
    "    * threatened_rate - number of households threatened per 100 renting households\n",
    "    * judgements - number of judgements observed in proprietary data\n",
    "    * judgement_rate - number of judgements per 100 renting households\n",
    "    * medhhinc - median household income\n",
    "    * wht_per - % of white, not Latinx residents\n",
    "    * blk_per - % of Black, not Latinx residents\n",
    "    * lat_per - % of Latinx residents\n",
    "    * metro - metro (1-metro; 0-non-metro)\n",
    "* Q1: Use Stata to calculate the average filing eviction rate by year. Make a scatter plot. Make sure to label the axes."
   ]
  },
  {
   "cell_type": "markdown",
   "id": "1ba0da03",
   "metadata": {},
   "source": [
    "## Problem 2\n",
    "* Q2: Use the eviction_classdata.dta. Run a multilevel null model of filing eviction rate with state as the second level. Then, make a caterpillar plot label axes and state names of the predicted values."
   ]
  },
  {
   "cell_type": "markdown",
   "id": "79c45b26",
   "metadata": {},
   "source": [
    "## Problem 3\n",
    "* Q3: Use the eviction_classdata.dta. Run a OLS model of filing eviction rate (dependent variable)  with the following independent variables: medhhinc, wht_per, and metro. Make a marginals plot predicting eviction filing rate by white percent. Make sure to label the axes."
   ]
  },
  {
   "cell_type": "code",
   "execution_count": null,
   "id": "40277e76",
   "metadata": {},
   "outputs": [],
   "source": []
  }
 ],
 "metadata": {
  "kernelspec": {
   "display_name": "Stata",
   "language": "stata",
   "name": "stata"
  },
  "language_info": {
   "codemirror_mode": "stata",
   "file_extension": ".do",
   "mimetype": "text/x-stata",
   "name": "stata",
   "version": "15.1"
  }
 },
 "nbformat": 4,
 "nbformat_minor": 5
}
