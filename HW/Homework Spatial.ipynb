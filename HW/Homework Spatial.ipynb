{
 "cells": [
  {
   "cell_type": "markdown",
   "id": "da5306d7",
   "metadata": {},
   "source": [
    "# SOCG 206 Homework Spatial\n",
    "## Due May 15th Midnight\n",
    "### You must complete the entire assignment in GeoDa. Homework submission must include text-file and word file. The word file should include figures and explanations. Your do file should be organized based on question."
   ]
  },
  {
   "cell_type": "markdown",
   "id": "247a9009",
   "metadata": {},
   "source": [
    "## Question 1\n",
    "Download and upzip the fresno_nata data from catcourses. Then, upload the shapefile into GeoDa.\n",
    "* a. This data is tract-level data of the EPA’s National Air Toxics Assessment. The unit of analysis is tracts. \n",
    "   * i. TRACTID is the unique ID variable\n",
    "   * ii. cancerrisk is estimated cancer risk from air toxics per million persons\n",
    "   * iii. blk_ntlatp is percent of Black, not Latinx residents\n",
    "   * iv. latper is percent of Latinx residents\n",
    "   * v. mhhincome is median household income\n",
    "   * vi. smcollnupp is percent of residents with “some college or more” educational attainment\n",
    "   * vii. rentper is percent of housing units with rental tenure status\n",
    "* b. Make a first order queen weight.\n",
    "* c. Estimate a spatial lag model with a first-order queen weight. Show the output.\n",
    "* d. Explain the results of the coefficients from 1c. Specifically, explain the coefficients’ direction and significance. Explain the spatial lag coefficient.\n",
    "* e. Check the moran’s I of the residuals. Does the model sufficiently control for spatial autocorrelation? Write a sentence. Include the value and p-value."
   ]
  },
  {
   "cell_type": "markdown",
   "id": "fc74b9cc",
   "metadata": {},
   "source": [
    "## Question 2\n",
    "Download and upzip the ncovr data from catcourses. Then, upload the shapefile into GeoDa.\n",
    "* a. This data is county-level data of the National Consortium on Violence Research. The unit of analysis is counties. \n",
    "   * i. FIPS is the unique ID variable\n",
    "   * ii. GI89 is Gini index of family income inequality\n",
    "   * iii. SOUTH is Dummy variable for Southern counties (South = 1)\n",
    "   * iv. FH90 is Percentage of female headed households\n",
    "   * v. UE90 is Unemployment rate the years \n",
    "* b. Make a first order queen weight.\n",
    "* c. Estimate a spatial error model with a first-order queen weight. Show the output.\n",
    "* d. Explain the results of the coefficients from 1c. Specifically, explain the coefficients’ direction and significance. Explain lambda coefficient.\n",
    "* e. Check the moran’s I of the residuals. Does the model sufficiently control for spatial autocorrelation? Write a sentence. Include the value and p-value. What can we conclude about the model?"
   ]
  }
 ],
 "metadata": {
  "kernelspec": {
   "display_name": "Stata",
   "language": "stata",
   "name": "stata"
  },
  "language_info": {
   "codemirror_mode": "stata",
   "file_extension": ".do",
   "mimetype": "text/x-stata",
   "name": "stata",
   "version": "15.1"
  }
 },
 "nbformat": 4,
 "nbformat_minor": 5
}
