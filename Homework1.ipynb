{
 "cells": [
  {
   "cell_type": "markdown",
   "id": "86e3488d",
   "metadata": {},
   "source": [
    "# SOCG 206 Homework #1\n",
    "## Due April 24th Midnight\n",
    "### You must complete the entire assignment in Stata. Homework submission must include do-file, log-file, and word file. Your do file should be organized based on question."
   ]
  },
  {
   "cell_type": "markdown",
   "id": "7f603292",
   "metadata": {},
   "source": [
    "## Question 1\n",
    "In class, we cleaned the Prison Policy Initiative of total populations across racial/ethnic groups. This data comes from this site: https://www.prisonpolicy.org/data/ and is titled \"U.S. Census group quarters (2010): People housed in correctional facilities for adults, by race and by gender.\" Open the excel and observe the data. In class we specifically looked at the \"Total\" sheet that shows the total persons in correctional facilities. For question #1, I want you to practice cleaning a dataset using \"Women\" sheet."
   ]
  },
  {
   "cell_type": "markdown",
   "id": "4de5c2ac",
   "metadata": {},
   "source": [
    "* Look up the exact code we used in class (workbook 2) to open the Prison Policy Iniative data for the Total Population (under sheet \"Total\"). Edit the code to specify the sheet Women and run the code to open the data.\n",
    "* Observe the data. We want to make a Black women to White women ratio of incarceration people at the state-level. Therefore, we need to clean the data (it is very similar to what we did in class workbook 2). Get rid of unnecessary observations. Rename the variables to reflect what they are measuring. We only want to keep the state, Black women, and White women variables.\n",
    "* Write a code that shows the summary statistics for incarcerated Black and White women.\n",
    "* Create a new variable that is the ratio of Black incarcerated women to White incarcerated women.\n",
    "* Save your data."
   ]
  },
  {
   "cell_type": "markdown",
   "id": "d7476913",
   "metadata": {},
   "source": [
    "## Question 2\n",
    "This question will have you practice prepare and conduct data for regression analysis. "
   ]
  },
  {
   "cell_type": "markdown",
   "id": "70cb1bb9",
   "metadata": {},
   "source": [
    "* In Canvas, there is a state-level data titled \"state_variables\". Using state as the key variable, merge the state-level with the incarcerated data from question 1.\n",
    "* Write a regression equation where BW incarceration ratio is the dependent variable. Use the following independent variables BW median household income ratio, BW educational attainment ratio, and segregation index. Then estimate the equation. Write your findings, specifically write about each beta cofficient.\n",
    "* Review the regression diagnostics (workbook 2): linearity of the parameters, normality of the errors, homoscedasticity, and multicollinearity. Write your assessment of the regression diagnostics. "
   ]
  },
  {
   "cell_type": "markdown",
   "id": "ce3842e3",
   "metadata": {},
   "source": [
    "## Question 3\n",
    "Questions 3-5 are for you to practice interactions.\n",
    "* Using the same data from Questions 1 and 2, use the xtile command to make do-tile of the BW median household income ratio.\n",
    "* Write and run a regression equation where BW incarceration ratio is the dependent variable. Use the following independent variables: BW educational attainment ratio, segregation index, BW median household income (do-tile), region, and interaction term of BW median household income (do-tile) and region. Describe your findings.\n",
    "* Graph the predictive values across the interaction groups using the margins plot command. Describe what you found in the margins plot and connect it back to your regression results."
   ]
  },
  {
   "cell_type": "markdown",
   "id": "5afa37c6",
   "metadata": {},
   "source": [
    "## Question 4\n",
    "* Using the same data from Questions 3.\n",
    "* Write and run a regression equation where BW incarceration ratio is the dependent variable. Use the following independent variables: BW educational attainment ratio, segregation index, BW median household income (continous), region, and interaction term of BW median household income (continous) and region. Describe your findings.\n",
    "* Graph the predictive values across the interaction groups using the margins plot command. Describe what you found in the margins plot and connect it back to your regression results."
   ]
  },
  {
   "cell_type": "markdown",
   "id": "f88a5ba9",
   "metadata": {},
   "source": [
    "## Question 5\n",
    "* Using the same data from Questions 3.\n",
    "* Write and run a regression equation where BW incarceration ratio is the dependent variable. Use the following independent variables: BW educational attainment ratio, segregation index, BW median household income (continous), region, and interaction term of BW median household income (continous) and BWeducation attainment. Describe your findings.\n",
    "* Graph the predictive values across the interaction groups using the margins plot command. Describe what you found in the margins plot and connect it back to your regression results."
   ]
  }
 ],
 "metadata": {
  "kernelspec": {
   "display_name": "Stata",
   "language": "stata",
   "name": "stata"
  },
  "language_info": {
   "codemirror_mode": "stata",
   "file_extension": ".do",
   "mimetype": "text/x-stata",
   "name": "stata",
   "version": "15.1"
  }
 },
 "nbformat": 4,
 "nbformat_minor": 5
}
