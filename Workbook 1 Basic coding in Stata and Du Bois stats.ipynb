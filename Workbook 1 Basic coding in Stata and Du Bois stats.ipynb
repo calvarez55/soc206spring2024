{
 "cells": [
  {
   "cell_type": "markdown",
   "metadata": {},
   "source": [
    "# Workbook #1\n",
    "Welcome to SOC 206. This workbook will be an outline for week 1's class. The <b>learning outcomes</b> for this workbook:\n",
    "* Students will understand expectations and responsibilities from the syllabus.\n",
    "* Students will be able to identify essential Stata commands and features of Stata.\n",
    "* We will close by discussing Du Bois and his ground breaking data visualizations."
   ]
  },
  {
   "cell_type": "markdown",
   "metadata": {},
   "source": [
    "## Syllabus SOC 211\n",
    "The syllabus is avaliable on the Canvas."
   ]
  },
  {
   "cell_type": "markdown",
   "metadata": {},
   "source": [
    "#### My teaching philosophy\n",
    "My teaching philosophy is student-centered and priotizes active and creative learning. I make a classroom where students feel comfortable to share ideas, make mistakes, and learn to create and apply concepts and methods to their own projects. I bring in underrepresented scholarship to reveal new pathways forwards.\n",
    "\n",
    "I approach teaching social statistics by teaching general philosophy of statistical methods, prioritize coding and application, and support student's individual projects.\n",
    "\n",
    "I expect students to attend lectures execpt in rare cases when life happens. If you miss class, you must review the Jupyter notebook yourself and make sure to ask questions about it. I expect students to come prepare and complete work."
   ]
  },
  {
   "cell_type": "markdown",
   "metadata": {},
   "source": [
    "## Introductions\n",
    "* Name\n",
    "* Explain your areas of interest with only 1-3 words\n",
    "* Name and rate the last movie you watched."
   ]
  },
  {
   "cell_type": "markdown",
   "metadata": {},
   "source": [
    "## UCSD a campus license for Stata for students\n",
    "Do you have access to Stata? More information: https://blink.ucsd.edu/technology/computers/software-acms/available-software/stata.html"
   ]
  },
  {
   "cell_type": "markdown",
   "metadata": {},
   "source": [
    " <img src=\"http://cdn.onlinewebfonts.com/svg/img_454217.png\" width=100 height=100 />\n",
    "\n",
    "## Organization tips\n",
    "<i>\"Tidy a little a day and you'll be tidying forever\"</i> -Marie Kondo\n",
    "\n",
    "It is <u>so</u> important to keep your quantitative work organized. These are some tips that have helped me stay organized."
   ]
  },
  {
   "cell_type": "markdown",
   "metadata": {},
   "source": [
    "* Make class/project/homework specific folders. Use basic universal commands to redirect your work to that specific folder.\n",
    "* Label files by date \"homework1 1 31 22\"\n",
    "* I highly recommend using code when possible. Codes are a written record of what you did. I almost always have to go back and see what I did or re-run analyses and codes save me!\n",
    "* Write notes in your code file."
   ]
  },
  {
   "cell_type": "markdown",
   "metadata": {},
   "source": [
    "<img src=\"http://cdn.onlinewebfonts.com/svg/img_275111.png\" width=100 height=100 /> <font color='blue'>DISCUSSION QUESTION: What is your current organization strategy? How does it work to steamline your workflow? What difficulties do you face in your current organization strategy? </font>"
   ]
  },
  {
   "cell_type": "markdown",
   "metadata": {},
   "source": [
    " <img src=\"https://www.stata.com/includes/images/stata-fb.jpg\" width=200 height=200 /> "
   ]
  },
  {
   "cell_type": "markdown",
   "metadata": {},
   "source": [
    "<div class=\"alert alert-block alert-warning\">Stata is a powerful program and has a lot features to it. If you are new to Stata, please refer for \n",
    "- Longest, K. C. (2020). Using stata® for quantitative analysis - third edition. SAGE Publications, Inc. https://www.doi.org/10.4135/9781544318547 (it is avaliable as an e-book at the library.) </div>"
   ]
  },
  {
   "cell_type": "markdown",
   "metadata": {},
   "source": [
    " <img src=\"https://cdn1.iconfinder.com/data/icons/development-2-webby/60/52_-Script-_development_coding_programming_code-512.png\" width=200 height=200 /> \n",
    "\n",
    "### Basic universal commands\n",
    "\n",
    "The following commands are universal in many coding languages including Stata, Python, R, etc... More importantly, these commands help us stay organized within the memory space of the computer.\n",
    "\n",
    "The first command is <b>pwd</b> and stands for \"print working directory\". It tells you where in your computer you are working on."
   ]
  },
  {
   "cell_type": "code",
   "execution_count": 1,
   "metadata": {},
   "outputs": [
    {
     "name": "stdout",
     "output_type": "stream",
     "text": [
      "D:\\documents copy\\teaching\\SOC 206 Spring 2024\\SOC211Spring2023\n"
     ]
    }
   ],
   "source": [
    "pwd"
   ]
  },
  {
   "cell_type": "markdown",
   "metadata": {},
   "source": [
    "Next important one is <b>cd</b> which means \"change directory.\" You can change your current working directory with cd."
   ]
  },
  {
   "cell_type": "code",
   "execution_count": 2,
   "metadata": {},
   "outputs": [
    {
     "name": "stdout",
     "output_type": "stream",
     "text": [
      "C:\\Users\\acade\\Desktop\n"
     ]
    }
   ],
   "source": [
    "cd \"C:\\Users\\acade\\Desktop\""
   ]
  },
  {
   "cell_type": "markdown",
   "metadata": {},
   "source": [
    "I recommend always starting your coding sessions with changing your working directory to the folder your project file. For example:"
   ]
  },
  {
   "cell_type": "code",
   "execution_count": 2,
   "metadata": {},
   "outputs": [
    {
     "name": "stdout",
     "output_type": "stream",
     "text": [
      "D:\\documents copy\\teaching\\SOC 206 Spring 2024\\Week 1\n"
     ]
    }
   ],
   "source": [
    "cd \"D:\\documents copy\\teaching\\SOC 206 Spring 2024\\Week 1\""
   ]
  },
  {
   "cell_type": "markdown",
   "metadata": {},
   "source": [
    "See how this folder is placed in the hierarchy of my work?"
   ]
  },
  {
   "cell_type": "markdown",
   "metadata": {},
   "source": [
    "### Essential Stata commands\n",
    "\n",
    "The following commands are essential commands for Stata."
   ]
  },
  {
   "cell_type": "markdown",
   "metadata": {},
   "source": [
    "#### OPENING\n",
    "This commands opens .dta files. It is important to include the <i>, clear</i> at the end because this clear out any current dataset open in Stata. Stata can only handle one dataset open at a time. "
   ]
  },
  {
   "cell_type": "code",
   "execution_count": 4,
   "metadata": {},
   "outputs": [],
   "source": [
    "use \"D:\\documents copy\\teaching\\SOC 206 Spring 2024\\Week 1\\test.dta\", clear"
   ]
  },
  {
   "cell_type": "markdown",
   "metadata": {},
   "source": [
    "#### SAVING \n",
    "This commands saves .dta files. Important to remember to include <i>, replace</i> otherwise Stata wont allow it to be save over."
   ]
  },
  {
   "cell_type": "code",
   "execution_count": 4,
   "metadata": {},
   "outputs": [
    {
     "name": "stdout",
     "output_type": "stream",
     "text": [
      "(file C:\\Users\\acade\\Documents\\teaching\\SOC 211 spring\n",
      "    2022\\jupyter_nb\\workbook 1\\blah 1 20 22.dta not found)\n",
      "file C:\\Users\\acade\\Documents\\teaching\\SOC 211 spring 2022\\jupyter_nb\\workbook\n",
      "    1\\blah 1 20 22.dta saved\n"
     ]
    }
   ],
   "source": [
    "save \"C:\\Users\\acade\\Documents\\teaching\\SOC 211 spring 2022\\jupyter_nb\\workbook 1\\blah 1 20 22.dta\", replace"
   ]
  },
  {
   "cell_type": "markdown",
   "metadata": {},
   "source": [
    "#### COMMENTING\n",
    "Use asterisk * of double backslash // to write single-line comments. Use /* */ to write multi-line comments."
   ]
  },
  {
   "cell_type": "code",
   "execution_count": 5,
   "metadata": {},
   "outputs": [],
   "source": [
    "*Use the asterisk sign * or // to write single-line commands.\n",
    "/* Use asterisk with a backslash and asterisk to \n",
    "multi-line comments */ "
   ]
  },
  {
   "cell_type": "code",
   "execution_count": 5,
   "metadata": {},
   "outputs": [],
   "source": [
    "*Opening datafile\n",
    "use \"D:\\documents copy\\teaching\\SOC 206 Spring 2024\\Week 1\\test.dta\", clear"
   ]
  },
  {
   "cell_type": "markdown",
   "metadata": {},
   "source": [
    "#### HELP\n",
    "Type \"help\" in front of the command for more information about the command. I always use the help command because I forget coding syntax. I look at the examples or the Stata manual for help. If that doesn't help then I will copy and paste commands to Google"
   ]
  },
  {
   "cell_type": "code",
   "execution_count": 7,
   "metadata": {},
   "outputs": [],
   "source": [
    "help merge"
   ]
  },
  {
   "cell_type": "markdown",
   "metadata": {},
   "source": [
    "### Types of Stata files\n",
    "\n",
    "Successful quantitive projects rely on these files...\n",
    "- <b>.do files</b> - these files store commands and comments.\n",
    "- <b>.dta files</b> - these files store data.\n",
    "- <b>.smcl files</b> - these files results or the output. I usually like to conver these into a pdf (I'll show you how to do this later)"
   ]
  },
  {
   "cell_type": "markdown",
   "metadata": {},
   "source": [
    "* Where are you going to access Stata this term? Can you open stata right now?"
   ]
  },
  {
   "cell_type": "code",
   "execution_count": 7,
   "metadata": {
    "scrolled": true
   },
   "outputs": [
    {
     "name": "stdout",
     "output_type": "stream",
     "text": [
      "\n",
      "D:\\documents copy\\teaching\\SOC 206 Spring 2024\\Week 1\n",
      "\n",
      "(note: file D:\\documents copy\\teaching\\SOC 206 Spring 2024\\Week 1\\week1 inclass \n",
      "> practice.smcl not found)\n",
      "--------------------------------------------------------------------------------\n",
      "      name:  <unnamed>\n",
      "       log:  D:\\documents copy\\teaching\\SOC 206 Spring 2024\\Week 1\\week1 inclass\n",
      ">  practice.smcl\n",
      "  log type:  smcl\n",
      " opened on:  28 Mar 2024, 09:31:44\n"
     ]
    }
   ],
   "source": [
    "*setting up working directory to be my week 1 folder\n",
    "cd \"D:\\documents copy\\teaching\\SOC 206 Spring 2024\\Week 1\"\n",
    "\n",
    "*open a log file\n",
    "log using \"week1 inclass practice.smcl\", replace"
   ]
  },
  {
   "cell_type": "markdown",
   "metadata": {},
   "source": [
    "<b>What would have happened if we used the <i>log using \"week1 inclass practice.smcl\", replace</i> code and DID NOT change directory? Where would the file be save at?</b>"
   ]
  },
  {
   "cell_type": "code",
   "execution_count": 8,
   "metadata": {},
   "outputs": [
    {
     "name": "stdout",
     "output_type": "stream",
     "text": [
      "\n",
      "\n",
      "\n",
      "       mark |      Freq.     Percent        Cum.\n",
      "------------+-----------------------------------\n",
      "          1 |         91      100.00      100.00\n",
      "------------+-----------------------------------\n",
      "      Total |         91      100.00\n"
     ]
    }
   ],
   "source": [
    "*opening datafile\n",
    "use \"D:\\documents copy\\teaching\\SOC 206 Spring 2024\\Week 1\\test.dta\", clear\n",
    "\n",
    "*looking at distribution of mark variable\n",
    "tab mark"
   ]
  },
  {
   "cell_type": "markdown",
   "metadata": {},
   "source": [
    "All of the commands and output will be saved into the log. Log files are files, but they can only be open through Stata or notepad. I prefer to save my log files as pdf because I can read and share them easily."
   ]
  },
  {
   "cell_type": "code",
   "execution_count": 11,
   "metadata": {},
   "outputs": [
    {
     "name": "stdout",
     "output_type": "stream",
     "text": [
      "\n",
      "\n",
      "(file D:\\documents copy\\teaching\\SOC 206 Spring 2024\\Week 1\\week1 inclass practi\n",
      "> ce.pdf written in PDF format)\n"
     ]
    }
   ],
   "source": [
    "*This will close and save log file and convert to pdf\n",
    "capture log close\n",
    "translate \"D:\\documents copy\\teaching\\SOC 206 Spring 2024\\Week 1\\week1 inclass practice.smcl\" \"D:\\documents copy\\teaching\\SOC 206 Spring 2024\\Week 1\\week1 inclass practice.pdf\", replace"
   ]
  },
  {
   "cell_type": "code",
   "execution_count": 2,
   "metadata": {},
   "outputs": [],
   "source": [
    "*type edit and dataview file will open\n",
    "edit"
   ]
  },
  {
   "cell_type": "markdown",
   "metadata": {},
   "source": [
    "<img src=\"https://www.pngfind.com/pngs/m/145-1453696_problem-statement-icon-png-statement-of-the-problem.png\" width=200 height=200 /> "
   ]
  },
  {
   "cell_type": "markdown",
   "metadata": {},
   "source": [
    "#### Complete the following questions.\n",
    "* Q1) Make a SOC 206 Spring 2024 folder and a Week 1 folder in your SOC 206 folder. In Stata, change your working directory to be SOC206/Week1.\n",
    "* Q1) Open a new do file. Print your current working directory.\n",
    "* Q3) Start a log file saved into your SOC206/Week1 folder.\n",
    "* Q4) Open this URL file: \"https://www.stata-press.com/data/r17/census12.dta\" in Stata.\n",
    "* Q5) Use the <i>describe</i> to find out more about the dataset.\n",
    "* Q6) Save the dataset in your SOC206/Week1.\n",
    "* Q7) CLose the log file and convert into a pdf\n",
    "* Q8) Save your do file\n",
    "    \n",
    "\n",
    "Can we have some volunteers to share their work with the class?"
   ]
  },
  {
   "cell_type": "code",
   "execution_count": 7,
   "metadata": {},
   "outputs": [
    {
     "name": "stdout",
     "output_type": "stream",
     "text": [
      "\n",
      "D:\\documents copy\\teaching\\SOC 206 Spring 2024\\Week 1\n",
      "\n",
      "(note: file D:\\documents copy\\teaching\\SOC 206 Spring 2024\\Week 1\\week1 inclass \n",
      "> practice.smcl not found)\n",
      "--------------------------------------------------------------------------------\n",
      "      name:  <unnamed>\n",
      "       log:  D:\\documents copy\\teaching\\SOC 206 Spring 2024\\Week 1\\week1 inclass\n",
      ">  practice.smcl\n",
      "  log type:  smcl\n",
      " opened on:  28 Mar 2024, 09:31:44\n"
     ]
    }
   ],
   "source": [
    "*setting up working directory to be my week 1 folder\n",
    "cd \"D:\\documents copy\\teaching\\SOC 206 Spring 2024\\Week 1\"\n",
    "\n",
    "*open a log file\n",
    "log using \"week1 inclass practice.smcl\", replace"
   ]
  },
  {
   "cell_type": "markdown",
   "metadata": {},
   "source": [
    "## Du Bois and data"
   ]
  },
  {
   "cell_type": "markdown",
   "metadata": {},
   "source": [
    "<img src=\"https://i.pinimg.com/originals/39/68/c8/3968c8455546fb1a170fe432fcd09020.jpg\" height=300 width=300>\n",
    "This week's reading assignment was to read the introduction of Battle-Baptiste, Whitney, and Britt Russert, eds. W.E.B Du Bois's Data Portraits: Visualizing Black America. Chronicle Books, 2018. The book is available as e-book at the library: <a href=\"https://ebookcentral.proquest.com/lib/ucsd/detail.action?docID=5515147\">link to e-book</a>"
   ]
  },
  {
   "cell_type": "markdown",
   "metadata": {},
   "source": [
    "<a href=\"https://youtu.be/gr9l7GX9Qsk\">Short video of Dr. Whitney Battle-Baptiste giving an overview of W. E. B. Du Bois's Data Portraits: Visualizing Black America</a>"
   ]
  },
  {
   "cell_type": "markdown",
   "metadata": {},
   "source": [
    "#DuBoisChallenge takes place every February where Anthony Starks and Allen Hillery invite anyone to recreate Du Bois data portarits using modern tools. [Blog post about #DuBoisChallange.](https://nightingaledvs.com/the-dubois-challenge/) Here is a resource discussing tools in the style of Du Boisian data visualization in R, Python, Stata, and Tableau:\n",
    "https://www.dignityanddebt.org/projects/du-boisian-resources/"
   ]
  },
  {
   "cell_type": "markdown",
   "metadata": {},
   "source": [
    "Plate 40 shows time series line graph"
   ]
  },
  {
   "cell_type": "markdown",
   "metadata": {},
   "source": [
    "Plate 51 shows time series percent area graph"
   ]
  },
  {
   "cell_type": "markdown",
   "metadata": {},
   "source": [
    "Plate 47 shows percentage bar graph of dichotomous variable status (litewracy) by select categories (national/racial community)"
   ]
  },
  {
   "cell_type": "markdown",
   "metadata": {},
   "source": [
    "Plate 2 categorical map of population location with population size legend"
   ]
  },
  {
   "cell_type": "markdown",
   "metadata": {},
   "source": [
    "Plate 27 shows fan chart for categorical percentage distrbutions in two comparison groups"
   ]
  },
  {
   "cell_type": "markdown",
   "metadata": {},
   "source": [
    "Plate 1 cartographical visualization of population location and movement"
   ]
  },
  {
   "cell_type": "markdown",
   "metadata": {},
   "source": [
    "Plate 31 shows multivariate stacked var graph by contiunous covariate brackets with photgraphic and other datat element details"
   ]
  },
  {
   "cell_type": "markdown",
   "metadata": {},
   "source": [
    "Plate 10 show partial table bar graph or bivariate categorical relationship"
   ]
  },
  {
   "cell_type": "markdown",
   "metadata": {},
   "source": [
    "<img src=\"https://static.hwpi.harvard.edu/files/styles/os_files_xlarge/public/hutchins/files/hutchins-bg-dubois.jpg\">"
   ]
  },
  {
   "cell_type": "markdown",
   "metadata": {},
   "source": [
    "### W.E.B. Du Bois\n",
    "\n",
    "* Sociologist studied at Fisk, Harvard, and University of Berlin.\n",
    "* He faced anti-Black discrimination and was excluded from mainstream sociology. \n",
    "* During his career, he wrote about systematic racism and its effects on society and Black communities. During the time most sociologists and social scientists were using science to justify racism. Du Bois argued against these racist assumptions and showed the importance of history to understanding social inequalities.\n",
    "* Du Bois conducted one of the first urban ethnographies and quantitative methods study. He uses sociological theory and methods to understand the lives of Black residents in Philadelphia. \n",
    "* American sociology excluded Du Bois' scholarship. Due to efforts of many activists and scholars, Du Bois is recognized as a foundational sociologist.\n",
    "* Du Bois researched and theorized race and racism in our society. He used sociological methods such as statistics and ethnography to understand the experiences of Black people in society. \n",
    "* At the time, many sociologists were reducing race to biology to support white supremacy.\n",
    "\n",
    "Recommended reading: Morris, Aldon D. 2015. The Scholar Denied: W. E. B. Du Bois and the Birth of Modern Sociology. Oakland, CA: University of California Press. (this book is avaliable as an e-book at the library)"
   ]
  },
  {
   "cell_type": "markdown",
   "metadata": {},
   "source": [
    "<img src=\"http://cdn.onlinewebfonts.com/svg/img_275111.png\" width=100 height=100 />\n",
    "\n",
    "<font color='blue'>DISCUSSION QUESTION: \n",
    "\n",
    "* What was the Paris Exposition? What did W.E.B. Du Bois do at the Paris Exposition? \n",
    "* What were some of the numbers and topics Du Bois was presenting in the plates?\n",
    "* What were some of design patterns in deploy?\n",
    "* Which plates stood out to you and why?\n",
    "* What can we take away, specifically to quantiative methods, from Du Bois and his work?\n",
    "</font>"
   ]
  },
  {
   "cell_type": "markdown",
   "metadata": {},
   "source": [
    "Paris Exposition was a festival/gallery event to showcast important artifacts of 20th century. Du Bois was invite by his Fisk University colleague Calloway. Du Bois prepared a gallery of data visualizations, photographs, and artwork demonstrating progress of Black Americans post-civil war. Most of the work comes from his The Georgia Negro: A Social Study. In the Battle-Baptiste and Rusert book, they also show data visuals from additional work from Du Bois. \n",
    "\n",
    "In the plates, you can see Du Bois is demonstrating temporal trends of the Black population from wealth, educational attainment, and occupation. Du Bois demonstrates gender differences. He even shows geographic patterns. All the displays demonstrate topics of interest to sociology.\n",
    "\n",
    "Du Bois is creative in creating the figures. He uses color, spirals, and maps. An interesting pattern Du Bois does is spiral or curves bars when they are too high. A lot of his figures are comparing across time or across gender to show difference. Showing difference is central to quantitative methods. In sociology, we argue those difference stem from systems or structures.\n",
    "\n",
    "I want to start this class with Du Bois for many reasons. I want us to have a role model and Du Bois is a brilliant scholar uses statistics to eradicate racial inequalities. I want us to feel inspired by the beauty and realness of Du Bois' work. "
   ]
  }
 ],
 "metadata": {
  "kernelspec": {
   "display_name": "Stata",
   "language": "stata",
   "name": "stata"
  },
  "language_info": {
   "codemirror_mode": "stata",
   "file_extension": ".do",
   "mimetype": "text/x-stata",
   "name": "stata",
   "version": "15.1"
  }
 },
 "nbformat": 4,
 "nbformat_minor": 4
}
