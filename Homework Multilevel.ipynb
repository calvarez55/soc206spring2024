{
 "cells": [
  {
   "cell_type": "markdown",
   "id": "da5306d7",
   "metadata": {},
   "source": [
    "# SOCG 206 Homework Multilevel\n",
    "## Due May 8th Midnight\n",
    "### You must complete the entire assignment in Stata. Homework submission must include do-file, log-file, and word file. The word file should include figures and explanations. Your do file should be organized based on question."
   ]
  },
  {
   "cell_type": "markdown",
   "id": "247a9009",
   "metadata": {},
   "source": [
    "## Question 1\n",
    "This data is county-level data of the EPA’s National Air Toxics Assessment. The unit of analysis is county. \n",
    "* Explanation of variables:\n",
    "    * fips is the county ID variable\n",
    "    * state is the state of the county\n",
    "    * cancerrisk is estimated cancer risk from air toxics per million persons (county\u0002level)\n",
    "    * blknthisper is percent of Black, not Latinx residents (county-level)\n",
    "    * latntblkper is percent of Latinx, not Black residents (county-level)\n",
    "    * medhhinc is median household income (county-level)\n",
    "    * stateracism is a state-level state racism index. The state racism index is the average of five scales: residential segregation and Black-white ratios in incarceration, educational attainment, economic status, and employment (see Mesic et al 2018. Higher scores indicate higher state racism (state-level)"
   ]
  },
  {
   "cell_type": "markdown",
   "id": "bb913534",
   "metadata": {},
   "source": [
    "* Estimate a two-level model where counties (level 1) in states (level 2) where cancerrisk is the dependent variable and with the following independent variables: blknthisper latntblkper medhhinc stateracism. Share your output\n",
    "* Explain the results of every coefficients from 1b. Specifically, explain the coefficients’ direction and significance. \n",
    "* Manually calculatethe intraclass coefficient (ICC)  using the display command in Stata. Explain the ICC.\n",
    "* Check your results by using the estat icc command. Write one sentence explaining the ICC."
   ]
  },
  {
   "cell_type": "markdown",
   "id": "aea0de23",
   "metadata": {},
   "source": [
    "## Question 2\n",
    "* Estimate a two-level model where counties (level 1) in states (level 2) where cancerrisk is the dependent variable and with ONLY the following independent variable: stateracism. Share your output. (Note, we are only using second level variables here because we are going to make a figure with state expected values.)\n",
    "* We are going to make a figure of the predicted values and 95% confidence interval for all the state units. (We can do this for the estimated model in 2a because it only has state-level variable.) So we first need the expected values and the standard error to calculate the 95% confidence interval. Run the following commands:"
   ]
  },
  {
   "cell_type": "code",
   "execution_count": null,
   "id": "a3d306f2",
   "metadata": {},
   "outputs": [],
   "source": [
    "*This predict command is equalivalent to \n",
    "*generate fixed= 13.75169 + .3672621*stateracism+u0\n",
    "predict expval_state, fitted\n",
    "\n",
    "*calculate the standard error of the fixed effect portion\n",
    "predict fixed_se, stdp\n",
    "\n",
    "*calculates the standard error of random effects for state level\n",
    "predict u0_se, reses\n",
    "\n",
    "*calculates 95% confidence interval (1.96se) and adds the standard error of both fixed and random\n",
    "gen totse=(fixed_se+u0_se)*1.96\n",
    "*calculating the lower 95% CU bound\n",
    "gen explo=expval_state-totse\n",
    "*calculating the upper 95% CU bound\n",
    "gen exphi=expval_state+totse\n",
    "\n",
    "*The following three lines must be ran together.\n",
    "sort state\n",
    "by state: gen selectfromlist= (_n==1)\n",
    "sort selectfromlist /// to check if code worked\n",
    "\n",
    "*This reduces the data to just include only 50 states\n",
    "keep if selectfromlist==1\n",
    "\n",
    "*this makes a new plot variable that is in the order of exp. values\n",
    "sort expval_state\n",
    "gen plot=_n"
   ]
  },
  {
   "cell_type": "markdown",
   "id": "d2d14a37",
   "metadata": {},
   "source": [
    "* Using the twoway command, make a scatter plot with expval_state on the y-axis and plot on the x-axis.\n",
    "  * i. Use the mcolor and mlabel commands to make the points black and label the points with state variable.\n",
    "  * Add these commands to position the labels better: mlabposition(6) mlabangle(90) mlabgap(12)\n",
    "  * Save your graph\n",
    "* We need to make a the “spikes” of the confidence intervals. Run the set of commands:"
   ]
  },
  {
   "cell_type": "code",
   "execution_count": null,
   "id": "bd7bf864",
   "metadata": {},
   "outputs": [],
   "source": [
    "twoway ///\n",
    "    (rspike exphi explo plot, lcolor(black))\n",
    "graph export \"expvalvsstate_spike.png\", replace width(2400)"
   ]
  },
  {
   "cell_type": "markdown",
   "id": "9fd88ab1",
   "metadata": {},
   "source": [
    "* Save your graph\n",
    "* Using the twoway command, combine the graph commands from the previous questions.\n",
    "  * Add a title for y-axis: \"State-level exp. values of est cancer risk from air toxics\"\n",
    "  * Add a title for x-axis: Expected value order”\n",
    "  * Specify the ticks for the y-axis to be: 0 10 20 30 40 50 60\n",
    "  * Add the following commands: legend(off) scheme(s1mono)\n",
    "* Save your graph\n",
    "* Explain the results from the graph. For example, describe which states report higher cancer risk and which states report lower cancer risk"
   ]
  },
  {
   "cell_type": "code",
   "execution_count": null,
   "id": "10483b4b",
   "metadata": {},
   "outputs": [],
   "source": []
  }
 ],
 "metadata": {
  "kernelspec": {
   "display_name": "Stata",
   "language": "stata",
   "name": "stata"
  },
  "language_info": {
   "codemirror_mode": "stata",
   "file_extension": ".do",
   "mimetype": "text/x-stata",
   "name": "stata",
   "version": "15.1"
  }
 },
 "nbformat": 4,
 "nbformat_minor": 5
}
